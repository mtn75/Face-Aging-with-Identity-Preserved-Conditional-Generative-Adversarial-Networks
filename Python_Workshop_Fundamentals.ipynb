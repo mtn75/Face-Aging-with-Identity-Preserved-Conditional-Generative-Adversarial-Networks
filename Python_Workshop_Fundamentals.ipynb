{
  "nbformat": 4,
  "nbformat_minor": 0,
  "metadata": {
    "colab": {
      "provenance": [],
      "authorship_tag": "ABX9TyPbHmEN6pux2BcwKUysGDnS",
      "include_colab_link": true
    },
    "kernelspec": {
      "name": "python3",
      "display_name": "Python 3"
    },
    "language_info": {
      "name": "python"
    }
  },
  "cells": [
    {
      "cell_type": "markdown",
      "metadata": {
        "id": "view-in-github",
        "colab_type": "text"
      },
      "source": [
        "<a href=\"https://colab.research.google.com/github/mtn75/Face-Aging-with-Identity-Preserved-Conditional-Generative-Adversarial-Networks/blob/master/Python_Workshop_Fundamentals.ipynb\" target=\"_parent\"><img src=\"https://colab.research.google.com/assets/colab-badge.svg\" alt=\"Open In Colab\"/></a>"
      ]
    },
    {
      "cell_type": "markdown",
      "source": [
        "# Data Types in Python\n",
        "\n"
      ],
      "metadata": {
        "id": "ZSsOLgZ3YXhw"
      }
    },
    {
      "cell_type": "markdown",
      "source": [
        "## Variables\n",
        "\n",
        "containers for storing data values.\n",
        "\n",
        "Variables are names of the data values."
      ],
      "metadata": {
        "id": "zajGETQuihFu"
      }
    },
    {
      "cell_type": "markdown",
      "source": [],
      "metadata": {
        "id": "kCiAH_PzieYz"
      }
    },
    {
      "cell_type": "markdown",
      "source": [
        "## Numbers\n",
        "\n",
        "\n",
        "*   int - integer: -5, 10, 77, 0\n",
        "*   float - Floating Point numbers: 3.1457, 0.34, 0.78\n",
        "\n",
        "\n",
        "\n"
      ],
      "metadata": {
        "id": "Pe2eIuFDh22O"
      }
    },
    {
      "cell_type": "code",
      "execution_count": 4,
      "metadata": {
        "colab": {
          "base_uri": "https://localhost:8080/"
        },
        "id": "y88U6gGY12Ab",
        "outputId": "4b2842b0-e601-45a5-9ae7-2def7778c53a"
      },
      "outputs": [
        {
          "output_type": "stream",
          "name": "stdout",
          "text": [
            "1\n",
            "1.2\n",
            "-56\n"
          ]
        }
      ],
      "source": [
        "x = 1\n",
        "y = 1.2\n",
        "z = -56\n",
        "\n",
        "print(x)\n",
        "print(y)\n",
        "print(z)"
      ]
    },
    {
      "cell_type": "code",
      "source": [],
      "metadata": {
        "id": "YHBJUGmoYlh6"
      },
      "execution_count": 2,
      "outputs": []
    },
    {
      "cell_type": "markdown",
      "source": [
        "Further readings:\n"
      ],
      "metadata": {
        "id": "A8ONMl59DA_A"
      }
    }
  ]
}